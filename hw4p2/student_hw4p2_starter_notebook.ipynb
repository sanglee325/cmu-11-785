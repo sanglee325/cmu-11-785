{
  "cells": [
    {
      "cell_type": "code",
      "execution_count": null,
      "metadata": {
        "colab": {
          "base_uri": "https://localhost:8080/"
        },
        "id": "0pueIzbxUwyY",
        "outputId": "325d3cdd-b182-4bfc-92d9-b12f92aac4e3"
      },
      "outputs": [
        {
          "name": "stdout",
          "output_type": "stream",
          "text": [
            "Collecting python-levenshtein\n",
            "  Downloading python-Levenshtein-0.12.2.tar.gz (50 kB)\n",
            "\u001b[?25l\r\u001b[K     |██████▌                         | 10 kB 32.0 MB/s eta 0:00:01\r\u001b[K     |█████████████                   | 20 kB 8.4 MB/s eta 0:00:01\r\u001b[K     |███████████████████▌            | 30 kB 8.1 MB/s eta 0:00:01\r\u001b[K     |██████████████████████████      | 40 kB 7.7 MB/s eta 0:00:01\r\u001b[K     |████████████████████████████████| 50 kB 3.1 MB/s \n",
            "\u001b[?25hRequirement already satisfied: setuptools in /usr/local/lib/python3.7/dist-packages (from python-levenshtein) (57.4.0)\n",
            "Building wheels for collected packages: python-levenshtein\n",
            "  Building wheel for python-levenshtein (setup.py) ... \u001b[?25l\u001b[?25hdone\n",
            "  Created wheel for python-levenshtein: filename=python_Levenshtein-0.12.2-cp37-cp37m-linux_x86_64.whl size=149832 sha256=a7df2b4eaeddc5f492a4937ab960da7e9f67c57498499402a8adebc5581ecd31\n",
            "  Stored in directory: /root/.cache/pip/wheels/05/5f/ca/7c4367734892581bb5ff896f15027a932c551080b2abd3e00d\n",
            "Successfully built python-levenshtein\n",
            "Installing collected packages: python-levenshtein\n",
            "Successfully installed python-levenshtein-0.12.2\n"
          ]
        }
      ],
      "source": [
        "!pip install python-levenshtein"
      ]
    },
    {
      "cell_type": "markdown",
      "metadata": {
        "id": "RBrQ8OHjW6qC"
      },
      "source": [
        "# Libraries and Initial Processing"
      ]
    },
    {
      "cell_type": "code",
      "execution_count": null,
      "metadata": {
        "colab": {
          "base_uri": "https://localhost:8080/"
        },
        "collapsed": true,
        "id": "HTGPr98x0yjO",
        "outputId": "72778823-4838-419e-a233-3bb9596b68be"
      },
      "outputs": [
        {
          "name": "stdout",
          "output_type": "stream",
          "text": [
            "True 3.7.13 (default, Mar 16 2022, 17:37:17) \n",
            "[GCC 7.5.0]\n",
            "Cuda = True with num_workers = 4\n"
          ]
        }
      ],
      "source": [
        "import os\n",
        "import sys\n",
        "import pandas as pd\n",
        "import numpy as np\n",
        "import Levenshtein as lev\n",
        "import torch\n",
        "import torch.nn as nn\n",
        "import torch.nn.functional as F\n",
        "import torch.nn.utils.rnn as rnn_utils\n",
        "from torch.utils.data import DataLoader, Dataset\n",
        "import torch.optim as optim\n",
        "from torch.optim import lr_scheduler\n",
        "import torch.nn.utils as utils\n",
        "import seaborn as sns\n",
        "import matplotlib.pyplot as plt\n",
        "import time\n",
        "import random\n",
        "import datetime\n",
        "from torch.utils import data\n",
        "from torch.nn.utils.rnn import pad_sequence, pack_padded_sequence, pad_packed_sequence\n",
        "\n",
        "from tqdm import tqdm\n",
        "\n",
        "cuda = torch.cuda.is_available()\n",
        "\n",
        "print(cuda, sys.version)\n",
        "\n",
        "device = torch.device(\"cuda\" if cuda else \"cpu\")\n",
        "num_workers = 4 if cuda else 0\n",
        "print(\"Cuda = \"+str(cuda)+\" with num_workers = \"+str(num_workers))\n",
        "np.random.seed(11785)\n",
        "torch.manual_seed(11785)\n",
        "\n",
        "# The labels of the dataset contain letters in LETTER_LIST.\n",
        "# You should use this to convert the letters to the corresponding indices\n",
        "# and train your model with numerical labels.\n",
        "LETTER_LIST = ['<sos>', 'A', 'B', 'C', 'D', 'E', 'F', 'G', 'H', 'I', 'J', 'K', 'L', 'M', 'N', 'O', 'P', 'Q', \\\n",
        "         'R', 'S', 'T', 'U', 'V', 'W', 'X', 'Y', 'Z', \"'\", ' ', '<eos>']"
      ]
    },
    {
      "cell_type": "code",
      "execution_count": null,
      "metadata": {
        "id": "3xc7E_BuxZ1g"
      },
      "outputs": [],
      "source": [
        "def create_dictionaries(letter_list):\n",
        "    '''\n",
        "    Create dictionaries for letter2index and index2letter transformations\n",
        "    based on LETTER_LIST\n",
        "\n",
        "    Args:\n",
        "        letter_list: LETTER_LIST\n",
        "\n",
        "    Return:\n",
        "        letter2index: Dictionary mapping from letters to indices\n",
        "        index2letter: Dictionary mapping from indices to letters\n",
        "    '''\n",
        "    letter2index = dict()\n",
        "    index2letter = dict()\n",
        "    # TODO\n",
        "    return letter2index, index2letter\n",
        "    \n",
        "\n",
        "def transform_index_to_letter(batch_indices):\n",
        "    '''\n",
        "    Transforms numerical index input to string output by converting each index \n",
        "    to its corresponding letter from LETTER_LIST\n",
        "\n",
        "    Args:\n",
        "        batch_indices: List of indices from LETTER_LIST with the shape of (N, )\n",
        "    \n",
        "    Return:\n",
        "        transcripts: List of converted string transcripts. This would be a list with a length of N\n",
        "    '''\n",
        "    transcripts = []\n",
        "    # TODO\n",
        "    return transcripts\n",
        "        \n",
        "# Create the letter2index and index2letter dictionary\n",
        "letter2index, index2letter = create_dictionaries(LETTER_LIST)"
      ]
    },
    {
      "cell_type": "markdown",
      "metadata": {
        "id": "YWRjucnUdbQ1"
      },
      "source": [
        "# Kaggle (TODO)"
      ]
    },
    {
      "cell_type": "code",
      "execution_count": null,
      "metadata": {
        "id": "ygteSNAu6HMz"
      },
      "outputs": [],
      "source": []
    },
    {
      "cell_type": "code",
      "execution_count": null,
      "metadata": {
        "id": "-WuigASA6U7s"
      },
      "outputs": [],
      "source": []
    },
    {
      "cell_type": "markdown",
      "metadata": {
        "id": "i5ioyn6ldQB9"
      },
      "source": [
        "# Dataset and Dataloading (TODO)\n",
        "\n",
        "You will need to implement the Dataset class by your own. You can implement it similar to HW3P2. However, you are welcomed to do it your own way if it is more comfortable or efficient.\n",
        "\n",
        "Note that you need to use LETTER_LIST to convert the transcript into numerical labels for the model.\n",
        "\n",
        "\n",
        "Example of raw transcript:\n",
        "\n",
        "    ['<sos>', 'N', 'O', 'R', 'T', 'H', 'A', 'N', 'G', 'E', 'R', ' ','A', 'B', 'B', 'E', 'Y', '<eos>']\n",
        "\n",
        "Example of converted transcript ready to process for the model:\n",
        "\n",
        "    [0, 14, 15, 18, 20, 8, 1, 14, 7, 5, 18, 28, 1, 2, 2, 5, 25, 29]\n"
      ]
    },
    {
      "cell_type": "code",
      "execution_count": null,
      "metadata": {
        "id": "8SndiVRVqBMa"
      },
      "outputs": [],
      "source": [
        "class LibriSamples(torch.utils.data.Dataset):\n",
        "\n",
        "    def __init__(self, data_path, partition= \"train\"):\n",
        "\n",
        "        # TODO\n",
        "\n",
        "    def __len__(self):\n",
        "        # TODO\n",
        "\n",
        "    def __getitem__(self, ind):\n",
        "\n",
        "        # TODO\n",
        "    \n",
        "    def collate_fn(batch):\n",
        "\n",
        "        # TODO\n",
        "\n",
        "class LibriSamplesTest(torch.utils.data.Dataset):\n",
        "\n",
        "    def __init__(self, data_path, test_order):\n",
        "\n",
        "        # TODO\n",
        "    \n",
        "    def __len__(self):\n",
        "        # TODO\n",
        "    \n",
        "    def __getitem__(self, ind):\n",
        "        # TODO\n",
        "    \n",
        "    def collate_fn(batch):\n",
        "        # TODO"
      ]
    },
    {
      "cell_type": "code",
      "execution_count": null,
      "metadata": {
        "colab": {
          "base_uri": "https://localhost:8080/"
        },
        "id": "4mzoYfTKu14s",
        "outputId": "87119389-cc39-4738-a0a8-aee035445f46"
      },
      "outputs": [
        {
          "name": "stdout",
          "output_type": "stream",
          "text": [
            "Batch size:  128\n",
            "Train dataset samples = 28539, batches = 223\n",
            "Val dataset samples = 2703, batches = 22\n",
            "Test dataset samples = 2620, batches = 21\n"
          ]
        }
      ],
      "source": [
        "batch_size = 128\n",
        "\n",
        "root = '/content/competitions/11-785-s22-hw4p2/hw4p2_student_data'\n",
        "\n",
        "train_data = # TODO\n",
        "val_data = # TODO\n",
        "test_data = # TODO\n",
        "\n",
        "train_loader = # TODO\n",
        "\n",
        "val_loader = # TODO\n",
        "\n",
        "test_loader = # TODO\n",
        "\n",
        "\n",
        "print(\"Batch size: \", batch_size)\n",
        "print(\"Train dataset samples = {}, batches = {}\".format(train_data.__len__(), len(train_loader)))\n",
        "print(\"Val dataset samples = {}, batches = {}\".format(val_data.__len__(), len(val_loader)))\n",
        "print(\"Test dataset samples = {}, batches = {}\".format(test_data.__len__(), len(test_loader)))"
      ]
    },
    {
      "cell_type": "code",
      "execution_count": null,
      "metadata": {
        "colab": {
          "base_uri": "https://localhost:8080/"
        },
        "id": "u9FwVZ9I2da0",
        "outputId": "208c24dd-3058-4304-e6e6-6d5de4c48396"
      },
      "outputs": [
        {
          "name": "stdout",
          "output_type": "stream",
          "text": [
            "torch.Size([128, 2236, 13]) torch.Size([128, 311]) torch.Size([128]) 128\n",
            "tensor([ 0,  2, 21, 20, 28, 20, 18,  5, 22,  5, 12, 25,  1, 14, 28, 23,  1, 19,\n",
            "        28, 15,  6, 28,  1, 28,  4,  9,  6,  6,  5, 18,  5, 14, 20, 28, 15, 16,\n",
            "         9, 14,  9, 15, 14, 28,  1, 14,  4, 28,  8,  5, 28, 23,  1, 19, 28,  4,\n",
            "         9, 19,  7, 21, 19, 20,  5,  4, 28,  1, 14,  4, 28, 18,  5, 22, 15, 12,\n",
            "        20,  5,  4, 28, 13, 15, 19, 20, 28, 21, 14, 18,  5,  1, 19, 15, 14,  1,\n",
            "         2, 12, 25, 28,  2, 25, 28, 20,  8,  5, 28,  1, 16, 16,  5,  1, 18,  1,\n",
            "        14,  3,  5, 28, 15,  6, 28,  8,  9, 19, 28, 13,  9, 14,  9, 19, 20,  5,\n",
            "        18, 27, 19, 28,  4, 15, 13,  5, 19, 20,  9,  3, 28,  1, 18, 18,  1, 14,\n",
            "         7,  5, 13,  5, 14, 20, 19, 29,  0,  0,  0,  0,  0,  0,  0,  0,  0,  0,\n",
            "         0,  0,  0,  0,  0,  0,  0,  0,  0,  0,  0,  0,  0,  0,  0,  0,  0,  0,\n",
            "         0,  0,  0,  0,  0,  0,  0,  0,  0,  0,  0,  0,  0,  0,  0,  0,  0,  0,\n",
            "         0,  0,  0,  0,  0,  0,  0,  0,  0,  0,  0,  0,  0,  0,  0,  0,  0,  0,\n",
            "         0,  0,  0,  0,  0,  0,  0,  0,  0,  0,  0,  0,  0,  0,  0,  0,  0,  0,\n",
            "         0,  0,  0,  0,  0,  0,  0,  0,  0,  0,  0,  0,  0,  0,  0,  0,  0,  0,\n",
            "         0,  0,  0,  0,  0,  0,  0,  0,  0,  0,  0,  0,  0,  0,  0,  0,  0,  0,\n",
            "         0,  0,  0,  0,  0,  0,  0,  0,  0,  0,  0,  0,  0,  0,  0,  0,  0,  0,\n",
            "         0,  0,  0,  0,  0,  0,  0,  0,  0,  0,  0,  0,  0,  0,  0,  0,  0,  0,\n",
            "         0,  0,  0,  0,  0])\n"
          ]
        }
      ],
      "source": [
        "# test code for checking shapes\n",
        "for data in val_loader:\n",
        "    x, y, lx, ly = data\n",
        "    print(x.shape, y.shape, lx.shape, len(ly))\n",
        "    print(y[0]) # desired \n",
        "    break"
      ]
    },
    {
      "cell_type": "markdown",
      "metadata": {
        "id": "I--VjKlEhwi8"
      },
      "source": [
        "# Model (TODO)"
      ]
    },
    {
      "cell_type": "code",
      "execution_count": null,
      "metadata": {
        "id": "EfpIMUDzCvT3"
      },
      "outputs": [],
      "source": [
        "class pBLSTM(nn.Module):\n",
        "    '''\n",
        "    Pyramidal BiLSTM\n",
        "    Read paper and understand the concepts and then write your implementation here.\n",
        "\n",
        "    At each step,\n",
        "    1. Pad your input if it is packed\n",
        "    2. Truncate the input length dimension by concatenating feature dimension\n",
        "        (i) How should  you deal with odd/even length input? \n",
        "        (ii) How should you deal with input length array (x_lens) after truncating the input?\n",
        "    3. Pack your input\n",
        "    4. Pass it into LSTM layer\n",
        "\n",
        "    To make our implementation modular, we pass 1 layer at a time.\n",
        "    '''\n",
        "    def __init__(self, input_dim, hidden_dim):\n",
        "        super(pBLSTM, self).__init__()\n",
        "        self.blstm = nn.LSTM(# fill this out, num_layers=1)\n",
        "\n",
        "\n",
        "    def forward(self, x):\n",
        "        pass"
      ]
    },
    {
      "cell_type": "code",
      "execution_count": null,
      "metadata": {
        "id": "NEmFI9It54mk"
      },
      "outputs": [],
      "source": [
        "class Encoder(nn.Module):\n",
        "    '''\n",
        "    Encoder takes the utterances as inputs and returns the key, value and unpacked_x_len.\n",
        "\n",
        "    '''\n",
        "    def __init__(self, input_dim, encoder_hidden_dim, key_value_size=128):\n",
        "        super(Encoder, self).__init__()\n",
        "        # The first LSTM layer at the bottom\n",
        "        self.lstm = nn.LSTM(# fill this out)\n",
        "\n",
        "        # Define the blocks of pBLSTMs\n",
        "        # Dimensions should be chosen carefully\n",
        "        # Hint: Bidirectionality, truncation...\n",
        "        self.pBLSTMs = nn.Sequential(\n",
        "            pBLSTM(# fill this out),\n",
        "            # Optional: dropout\n",
        "            # ...\n",
        "        )\n",
        "         \n",
        "        # The linear transformations for producing Key and Value for attention\n",
        "        # Hint: Dimensions when bidirectional lstm? \n",
        "        # self.key_network = nn.Linear()\n",
        "        # self.value_network = nn.Linear()\n",
        "\n",
        "    def forward(self, x, x_len):\n",
        "        \"\"\"\n",
        "        1. Pack your input and pass it through the first LSTM layer (no truncation)\n",
        "        2. Pass it through the pyramidal LSTM layer\n",
        "        3. Pad your input back to (B, T, *) or (T, B, *) shape\n",
        "        4. Output Key, Value, and truncated input lens\n",
        "\n",
        "        Key and value could be\n",
        "            (i) Concatenated hidden vectors from all time steps (key == value).\n",
        "            (ii) Linear projections of the output from the last pBLSTM network.\n",
        "                If you choose this way, you can use the final output of\n",
        "                your pBLSTM network.\n",
        "        \"\"\"\n",
        "\n",
        "        pass"
      ]
    },
    {
      "cell_type": "code",
      "execution_count": null,
      "metadata": {
        "id": "s7TEBpEF6VFh"
      },
      "outputs": [],
      "source": [
        "encoder = # fill this out\n",
        "# Try out your encoder on a tiny input before moving to the next step...\n",
        "print()"
      ]
    },
    {
      "cell_type": "code",
      "execution_count": null,
      "metadata": {
        "id": "pqu-MUM8TjUO"
      },
      "outputs": [],
      "source": [
        "def plot_attention(attention):\n",
        "    # utility function for debugging\n",
        "    plt.clf()\n",
        "    sns.heatmap(attention, cmap='GnBu')\n",
        "    plt.show()\n",
        "\n",
        "class Attention(nn.Module):\n",
        "    '''\n",
        "    Attention is calculated using key and value from encoder and query from decoder.\n",
        "    Here are different ways to compute attention and context:\n",
        "    1. Dot-product attention\n",
        "        energy = bmm(key, query) \n",
        "        # Optional: Scaled dot-product by normalizing with sqrt key dimension\n",
        "        # Check \"attention is all you need\" Section 3.2.1\n",
        "    * 1st way is what most TAs are comfortable with, but if you want to explore...\n",
        "    2. Cosine attention\n",
        "        energy = cosine(query, key) # almost the same as dot-product xD \n",
        "    3. Bi-linear attention\n",
        "        W = Linear transformation (learnable parameter): d_k -> d_q\n",
        "        energy = bmm(key @ W, query)\n",
        "    4. Multi-layer perceptron\n",
        "        # Check \"Neural Machine Translation and Sequence-to-sequence Models: A Tutorial\" Section 8.4\n",
        "    \n",
        "    After obtaining unnormalized attention weights (energy), compute and return attention and context, i.e.,\n",
        "    energy = mask(energy) # mask out padded elements with big negative number (e.g. -1e9)\n",
        "    attention = softmax(energy)\n",
        "    context = bmm(attention, value)\n",
        "\n",
        "    5. Multi-Head Attention\n",
        "        # Check \"attention is all you need\" Section 3.2.2\n",
        "        h = Number of heads\n",
        "        W_Q, W_K, W_V: Weight matrix for Q, K, V (h of them in total)\n",
        "        W_O: d_v -> d_v\n",
        "\n",
        "        Reshape K: (B, T, d_k)\n",
        "        to (B, T, h, d_k // h) and transpose to (B, h, T, d_k // h)\n",
        "        Reshape V: (B, T, d_v)\n",
        "        to (B, T, h, d_v // h) and transpose to (B, h, T, d_v // h)\n",
        "        Reshape Q: (B, d_q)\n",
        "        to (B, h, d_q // h)\n",
        "\n",
        "        energy = Q @ K^T\n",
        "        energy = mask(energy)\n",
        "        attention = softmax(energy)\n",
        "        multi_head = attention @ V\n",
        "        multi_head = multi_head reshaped to (B, d_v)\n",
        "        context = multi_head @ W_O\n",
        "    '''\n",
        "    def __init__(self):\n",
        "        super(Attention, self).__init__()\n",
        "        # Optional: dropout\n",
        "\n",
        "    def forward(self, query, key, value, mask):\n",
        "        \"\"\"\n",
        "        input:\n",
        "            key: (batch_size, seq_len, d_k)\n",
        "            value: (batch_size, seq_len, d_v)\n",
        "            query: (batch_size, d_q)\n",
        "        * Hint: d_k == d_v == d_q is often true if you use linear projections\n",
        "        return:\n",
        "            context: (batch_size, key_val_dim)\n",
        "        \n",
        "        \"\"\"\n",
        "        pass\n",
        "        # return context, attention\n",
        "        # we return attention weights for plotting (for debugging)"
      ]
    },
    {
      "cell_type": "code",
      "execution_count": null,
      "metadata": {
        "id": "zcTC4cK95TYT"
      },
      "outputs": [],
      "source": [
        "class Decoder(nn.Module):\n",
        "    '''\n",
        "    As mentioned in a previous recitation, each forward call of decoder deals with just one time step.\n",
        "    Thus we use LSTMCell instead of LSTM here.\n",
        "    The output from the last LSTMCell can be used as a query for calculating attention.\n",
        "    Methods like Gumble noise and teacher forcing can also be incorporated for improving the performance.\n",
        "    '''\n",
        "    def __init__(self, vocab_size, decoder_hidden_dim, embed_dim, key_value_size=128):\n",
        "        super(Decoder, self).__init__()\n",
        "        # Hint: Be careful with the padding_idx\n",
        "        self.embedding = nn.Embedding(# fill this out)\n",
        "        # The number of cells is defined based on the paper\n",
        "        self.lstm1 = nn.LSTMCell(# fill this out)\n",
        "        self.lstm2 = nn.LSTMCell(# fill this out)\n",
        "    \n",
        "        self.attention = Attention()     \n",
        "        self.vocab_size = vocab_size\n",
        "        # Optional: Weight-tying\n",
        "        self.character_prob = nn.Linear(# fill this out) #: d_v -> vocab_size\n",
        "        self.key_value_size = key_value_size\n",
        "        \n",
        "        # Weight tying\n",
        "        self.character_prob.weight = self.embedding.weight\n",
        "\n",
        "    def forward(self, key, value, encoder_len, y=None, mode='train'):\n",
        "        '''\n",
        "        Args:\n",
        "            key :(B, T, d_k) - Output of the Encoder (possibly from the Key projection layer)\n",
        "            value: (B, T, d_v) - Output of the Encoder (possibly from the Value projection layer)\n",
        "            y: (B, text_len) - Batch input of text with text_length\n",
        "            mode: Train or eval mode for teacher forcing\n",
        "        Return:\n",
        "            predictions: the character perdiction probability \n",
        "        '''\n",
        "\n",
        "        B, key_seq_max_len, key_value_size = key.shape\n",
        "\n",
        "        if mode == 'train':\n",
        "            max_len =  y.shape[1]\n",
        "            char_embeddings = self.embedding(# fill this out)\n",
        "        else:\n",
        "            max_len = 600\n",
        "\n",
        "        # TODO: Create the attention mask here (outside the for loop rather than inside) to aviod repetition\n",
        "        mask = # fill this out\n",
        "        mask = mask.to(device)\n",
        "        \n",
        "        predictions = []\n",
        "        # This is the first input to the decoder\n",
        "        # What should the fill_value be?\n",
        "        prediction = torch.full((batch_size,), fill_value=# fill this out, device=device)\n",
        "        # The length of hidden_states vector should depend on the number of LSTM Cells defined in init\n",
        "        # The paper uses 2\n",
        "        hidden_states = [None, None] \n",
        "        \n",
        "        # TODO: Initialize the context\n",
        "        context = # fill this out\n",
        "\n",
        "        attention_plot = [] # this is for debugging\n",
        "\n",
        "        for i in range(max_len):\n",
        "            if mode == 'train':\n",
        "                # TODO: Implement Teacher Forcing\n",
        "                \"\"\"\n",
        "                if using teacher_forcing:\n",
        "                    if i == 0:\n",
        "                        # This is the first time step\n",
        "                        # Hint: How did you initialize \"prediction\" variable above?\n",
        "                    else:\n",
        "                        # Otherwise, feed the label of the **previous** time step\n",
        "                else:\n",
        "                    char_embed = embedding of the previous prediction\n",
        "                \"\"\"     \n",
        "            else:\n",
        "                char_embed = # embedding of the previous prediction\n",
        "\n",
        "            # what vectors should be concatenated as a context?\n",
        "            y_context = torch.cat([# fill this out], dim=1)\n",
        "            # context and hidden states of lstm 1 from the previous time step should be fed\n",
        "            hidden_states[0] = self.lstm1(# fill this out)\n",
        "\n",
        "            # hidden states of lstm1 and hidden states of lstm2 from the previous time step should be fed\n",
        "            hidden_states[1] = self.lstm2(# fill this out)\n",
        "            # What then is the query?\n",
        "            query = # fill this out\n",
        "            \n",
        "            # Compute attention from the output of the second LSTM Cell\n",
        "            context, attention = self.attention(query, key, value, mask)\n",
        "            # We store the first attention of this batch for debugging\n",
        "            attention_plot.append(attention[0].detach().cpu())\n",
        "            \n",
        "            # What should be concatenated as the output context?\n",
        "            output_context = torch.cat([# fill this out], dim=1)\n",
        "            prediction = self.character_prob(output_context)\n",
        "            # store predictions\n",
        "            predictions.append(# fill this out)\n",
        "        \n",
        "        # Concatenate the attention and predictions to return\n",
        "        attentions = torch.stack(attention_plot, dim=0)\n",
        "        predictions = torch.cat(predictions, dim=1)\n",
        "        return predictions, attentions"
      ]
    },
    {
      "cell_type": "code",
      "execution_count": null,
      "metadata": {
        "id": "d35FEZhz5Uhx"
      },
      "outputs": [],
      "source": [
        "class Seq2Seq(nn.Module):\n",
        "    '''\n",
        "    We train an end-to-end sequence to sequence model comprising of Encoder and Decoder.\n",
        "    This is simply a wrapper \"model\" for your encoder and decoder.\n",
        "    '''\n",
        "    def __init__(self, input_dim, vocab_size, encoder_hidden_dim, decoder_hidden_dim, embed_dim, key_value_size=128):\n",
        "        super(Seq2Seq,self).__init__()\n",
        "        self.encoder = Encoder(# fill this out)\n",
        "        self.decoder = Decoder(# fill this out)\n",
        "\n",
        "    def forward(self, x, x_len, y=None, mode='train'):\n",
        "        key, value, encoder_len = self.encoder(x, x_len)\n",
        "        predictions, attentions = self.decoder(key, value, encoder_len, y=y, mode=mode)\n",
        "        return predictions"
      ]
    },
    {
      "cell_type": "code",
      "execution_count": null,
      "metadata": {
        "id": "a9h-vz1fT09K"
      },
      "outputs": [],
      "source": [
        "model = Seq2Seq(# fill this out)\n",
        "\n",
        "model = model.to(device)\n",
        "print(model)"
      ]
    },
    {
      "cell_type": "markdown",
      "metadata": {
        "id": "EHMzR6fLht5n"
      },
      "source": [
        "# Training"
      ]
    },
    {
      "cell_type": "code",
      "execution_count": null,
      "metadata": {
        "id": "_HwmgDSvbtmd"
      },
      "outputs": [],
      "source": [
        "optimizer = optim.Adam(model.parameters(), # fill this out)\n",
        "scheduler = # fill this out\n",
        "criterion = nn.CrossEntropyLoss(reduction='none')"
      ]
    },
    {
      "cell_type": "code",
      "execution_count": null,
      "metadata": {
        "id": "wIXzhQclhs98"
      },
      "outputs": [],
      "source": [
        "def train(model, train_loader, criterion, optimizer, mode):\n",
        "    model.train()\n",
        "    running_loss = 0\n",
        "    \n",
        "    # 0) Iterate through your data loader\n",
        "    for i, (x,x_len,y,y_len) in enumerate(trian_loader):\n",
        "        \n",
        "        # 1) Send the inputs to the device\n",
        "\n",
        "        # 2) Pass your inputs, and length of speech into the model.\n",
        "        predictions, attentions = model(x, x_len, y, mode=mode)\n",
        "        \n",
        "        # 3) Generate a mask based on target length. This is to mark padded elements\n",
        "        # so that we can exclude them from computing loss.\n",
        "        # Ensure that the mask is on the device and is the correct shape.\n",
        "        mask = # fill this out\n",
        "            \n",
        "        # 4) Make sure you have the correct shape of predictions when putting into criterion\n",
        "        loss = criterion(# fill this out)\n",
        "        # Use the mask you defined above to compute the average loss\n",
        "        masked_loss = # fill this out\n",
        "\n",
        "        # 5) backprop\n",
        "        \n",
        "        # Optional: Gradient clipping\n",
        "\n",
        "        # When computing Levenshtein distance, make sure you truncate prediction/target\n",
        "\n",
        "        # Optional: plot your attention for debugging\n",
        "        # plot_attention(attentions)\n",
        "        \n",
        "def val(model, valid_loader):\n",
        "    model.eval()\n",
        "    pass"
      ]
    },
    {
      "cell_type": "code",
      "execution_count": null,
      "metadata": {
        "id": "9gsc7IbxrpQI"
      },
      "outputs": [],
      "source": [
        "# TODO: Define your model and put it on the device here\n",
        "# ...\n",
        "\n",
        "n_epochs = 10\n",
        "optimizer = optim.Adam(model.parameters(), # fill this out)\n",
        "# Make sure you understand the implication of setting reduction = 'none'\n",
        "criterion = nn.CrossEntropyLoss(reduction='none')\n",
        "mode = 'train'\n",
        "\n",
        "for epoch in range(n_epochs):\n",
        "    train(model, train_loader, criterion, optimizer, mode)\n",
        "    val(model, valid_loader)"
      ]
    },
    {
      "cell_type": "code",
      "execution_count": null,
      "metadata": {},
      "outputs": [],
      "source": [
        "'''\n",
        "Debugging suggestions from Eason, a TA from previous semesters:\n",
        "\n",
        "(1) Decrease your batch_size to 2 and print out the value and shape of all intermediate variables to check if they satisfy the expectation\n",
        "(2) Be super careful about the LR, don't make it too high. Too large LR would lead to divergence and your attention plot will never make sense\n",
        "(3) Make sure you have correctly handled the situation for time_step = 0 when teacher forcing\n",
        "\n",
        "(1) is super important and is the most efficient way for debugging. \n",
        "'''\n",
        "'''\n",
        "Tips for passing A from B (from easy to hard):\n",
        "** You need to implement all of these yourself without utilizing any library **\n",
        "(1) Increase model capacity. E.g. increase num_layer of lstm\n",
        "(2) LR and Teacher Forcing are also very important, you can tune them or their scheduler as well. Do NOT change lr or tf during the warm-up stage!\n",
        "(3) Weight tying\n",
        "(4) Locked Dropout - insert between the plstm layers\n",
        "(5) Pre-training decoder or train an LM to help make predictions\n",
        "(5) Pre-training decoder to speed up the convergence: \n",
        "    disable your encoder and only train the decoder like train a language model\n",
        "(6) Better weight initialization technique\n",
        "(7) Batch Norm between plstm. You definitely can try other positions as well\n",
        "(8) Data Augmentation. Time-masking, frequency masking\n",
        "(9) Weight smoothing (avg the last few epoch's weight)\n",
        "(10) You can try CNN + Maxpooling (Avg). Some students replace the entire plstm blocks with it and some just combine them together.\n",
        "(11) Beam Search\n",
        "'''"
      ]
    },
    {
      "cell_type": "markdown",
      "metadata": {},
      "source": []
    }
  ],
  "metadata": {
    "accelerator": "GPU",
    "colab": {
      "collapsed_sections": [],
      "machine_shape": "hm",
      "name": "student_hw4p2_starter_notebook.ipynb",
      "provenance": []
    },
    "kernelspec": {
      "display_name": "Python 3",
      "language": "python",
      "name": "python3"
    },
    "language_info": {
      "codemirror_mode": {
        "name": "ipython",
        "version": 3
      },
      "file_extension": ".py",
      "mimetype": "text/x-python",
      "name": "python",
      "nbconvert_exporter": "python",
      "pygments_lexer": "ipython3",
      "version": "3.8.3"
    }
  },
  "nbformat": 4,
  "nbformat_minor": 0
}
